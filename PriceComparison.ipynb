{
 "cells": [
  {
   "cell_type": "code",
   "execution_count": 160,
   "metadata": {
    "ExecuteTime": {
     "end_time": "2020-07-31T09:21:26.204441Z",
     "start_time": "2020-07-31T09:21:26.199455Z"
    }
   },
   "outputs": [],
   "source": [
    "from pyforest import *\n",
    "import matplotlib.pyplot as plt\n",
    "import os\n",
    "import warnings\n",
    "warnings.filterwarnings('ignore')\n",
    "import seaborn as sns\n",
    "from sklearn import metrics"
   ]
  },
  {
   "cell_type": "code",
   "execution_count": 161,
   "metadata": {
    "ExecuteTime": {
     "end_time": "2020-07-31T09:21:33.138106Z",
     "start_time": "2020-07-31T09:21:33.119194Z"
    }
   },
   "outputs": [
    {
     "data": {
      "application/javascript": [
       "\n",
       "        if (window._pyforest_update_imports_cell) { window._pyforest_update_imports_cell('from sklearn import svm\\nimport pandas as pd\\nimport spacy\\nimport plotly.express as px\\nimport numpy as np\\nfrom sklearn.feature_extraction.text import TfidfVectorizer\\nimport sklearn\\nimport plotly as py\\nimport re\\nimport statistics\\nimport sys\\nimport matplotlib as mpl\\nimport keras\\nimport bokeh\\nimport pickle\\nfrom sklearn.manifold import TSNE'); }\n",
       "    "
      ],
      "text/plain": [
       "<IPython.core.display.Javascript object>"
      ]
     },
     "metadata": {},
     "output_type": "display_data"
    },
    {
     "data": {
      "application/javascript": [
       "\n",
       "        if (window._pyforest_update_imports_cell) { window._pyforest_update_imports_cell('from sklearn import svm\\nimport pandas as pd\\nimport spacy\\nimport plotly.express as px\\nimport numpy as np\\nfrom sklearn.feature_extraction.text import TfidfVectorizer\\nimport sklearn\\nimport plotly as py\\nimport re\\nimport statistics\\nimport sys\\nimport matplotlib as mpl\\nimport keras\\nimport bokeh\\nimport pickle\\nfrom sklearn.manifold import TSNE'); }\n",
       "    "
      ],
      "text/plain": [
       "<IPython.core.display.Javascript object>"
      ]
     },
     "metadata": {},
     "output_type": "display_data"
    }
   ],
   "source": [
    "ama = pd.read_csv('Amazon.csv')\n",
    "flip = pd.read_csv('Flipkart.csv')"
   ]
  },
  {
   "cell_type": "code",
   "execution_count": 162,
   "metadata": {
    "ExecuteTime": {
     "end_time": "2020-07-31T09:21:33.626077Z",
     "start_time": "2020-07-31T09:21:33.613150Z"
    }
   },
   "outputs": [
    {
     "data": {
      "text/html": [
       "<div>\n",
       "<style scoped>\n",
       "    .dataframe tbody tr th:only-of-type {\n",
       "        vertical-align: middle;\n",
       "    }\n",
       "\n",
       "    .dataframe tbody tr th {\n",
       "        vertical-align: top;\n",
       "    }\n",
       "\n",
       "    .dataframe thead th {\n",
       "        text-align: right;\n",
       "    }\n",
       "</style>\n",
       "<table border=\"1\" class=\"dataframe\">\n",
       "  <thead>\n",
       "    <tr style=\"text-align: right;\">\n",
       "      <th></th>\n",
       "      <th>amazon_title</th>\n",
       "      <th>amazon_author</th>\n",
       "      <th>amazon_rating</th>\n",
       "      <th>amazon_reviews count</th>\n",
       "      <th>amazon_isbn-10</th>\n",
       "      <th>amazon_price</th>\n",
       "    </tr>\n",
       "  </thead>\n",
       "  <tbody>\n",
       "    <tr>\n",
       "      <td>0</td>\n",
       "      <td>Tell Me your Dreams</td>\n",
       "      <td>by Sidney Sheldon</td>\n",
       "      <td>4.4</td>\n",
       "      <td>160</td>\n",
       "      <td>8172234902</td>\n",
       "      <td>209</td>\n",
       "    </tr>\n",
       "    <tr>\n",
       "      <td>1</td>\n",
       "      <td>The Boy in the Striped Pyjamas (Definitions)</td>\n",
       "      <td>by John Boyne</td>\n",
       "      <td>4.6</td>\n",
       "      <td>134</td>\n",
       "      <td>1862305277</td>\n",
       "      <td>350</td>\n",
       "    </tr>\n",
       "    <tr>\n",
       "      <td>2</td>\n",
       "      <td>Romancing the Balance Sheet: For Anyone Who Ow...</td>\n",
       "      <td>by Anil Lamba</td>\n",
       "      <td>4.5</td>\n",
       "      <td>156</td>\n",
       "      <td>9350294311</td>\n",
       "      <td>477</td>\n",
       "    </tr>\n",
       "    <tr>\n",
       "      <td>3</td>\n",
       "      <td>Mossad</td>\n",
       "      <td>by Michael Bar-Zohar - Import</td>\n",
       "      <td>4.6</td>\n",
       "      <td>637</td>\n",
       "      <td>8184958455</td>\n",
       "      <td>340</td>\n",
       "    </tr>\n",
       "    <tr>\n",
       "      <td>4</td>\n",
       "      <td>My Story</td>\n",
       "      <td>by Kamala Das</td>\n",
       "      <td>4.5</td>\n",
       "      <td>42</td>\n",
       "      <td>8172238975</td>\n",
       "      <td>178</td>\n",
       "    </tr>\n",
       "  </tbody>\n",
       "</table>\n",
       "</div>"
      ],
      "text/plain": [
       "                                        amazon_title  \\\n",
       "0                                Tell Me your Dreams   \n",
       "1       The Boy in the Striped Pyjamas (Definitions)   \n",
       "2  Romancing the Balance Sheet: For Anyone Who Ow...   \n",
       "3                                             Mossad   \n",
       "4                                           My Story   \n",
       "\n",
       "                   amazon_author amazon_rating amazon_reviews count  \\\n",
       "0              by Sidney Sheldon           4.4                  160   \n",
       "1                  by John Boyne           4.6                  134   \n",
       "2                  by Anil Lamba           4.5                  156   \n",
       "3  by Michael Bar-Zohar - Import           4.6                  637   \n",
       "4                  by Kamala Das           4.5                   42   \n",
       "\n",
       "   amazon_isbn-10  amazon_price  \n",
       "0      8172234902           209  \n",
       "1      1862305277           350  \n",
       "2      9350294311           477  \n",
       "3      8184958455           340  \n",
       "4      8172238975           178  "
      ]
     },
     "execution_count": 162,
     "metadata": {},
     "output_type": "execute_result"
    }
   ],
   "source": [
    "ama.head()"
   ]
  },
  {
   "cell_type": "code",
   "execution_count": 163,
   "metadata": {
    "ExecuteTime": {
     "end_time": "2020-07-31T09:21:34.373936Z",
     "start_time": "2020-07-31T09:21:34.359973Z"
    }
   },
   "outputs": [
    {
     "data": {
      "text/html": [
       "<div>\n",
       "<style scoped>\n",
       "    .dataframe tbody tr th:only-of-type {\n",
       "        vertical-align: middle;\n",
       "    }\n",
       "\n",
       "    .dataframe tbody tr th {\n",
       "        vertical-align: top;\n",
       "    }\n",
       "\n",
       "    .dataframe thead th {\n",
       "        text-align: right;\n",
       "    }\n",
       "</style>\n",
       "<table border=\"1\" class=\"dataframe\">\n",
       "  <thead>\n",
       "    <tr style=\"text-align: right;\">\n",
       "      <th></th>\n",
       "      <th>amazon_isbn-10</th>\n",
       "      <th>amazon_price</th>\n",
       "    </tr>\n",
       "  </thead>\n",
       "  <tbody>\n",
       "    <tr>\n",
       "      <td>count</td>\n",
       "      <td>1.382000e+03</td>\n",
       "      <td>1382.000000</td>\n",
       "    </tr>\n",
       "    <tr>\n",
       "      <td>mean</td>\n",
       "      <td>7.758529e+09</td>\n",
       "      <td>247.516643</td>\n",
       "    </tr>\n",
       "    <tr>\n",
       "      <td>std</td>\n",
       "      <td>2.643135e+09</td>\n",
       "      <td>151.366570</td>\n",
       "    </tr>\n",
       "    <tr>\n",
       "      <td>min</td>\n",
       "      <td>1.250006e+09</td>\n",
       "      <td>1.000000</td>\n",
       "    </tr>\n",
       "    <tr>\n",
       "      <td>25%</td>\n",
       "      <td>8.172235e+09</td>\n",
       "      <td>135.250000</td>\n",
       "    </tr>\n",
       "    <tr>\n",
       "      <td>50%</td>\n",
       "      <td>8.192911e+09</td>\n",
       "      <td>213.000000</td>\n",
       "    </tr>\n",
       "    <tr>\n",
       "      <td>75%</td>\n",
       "      <td>9.352865e+09</td>\n",
       "      <td>320.000000</td>\n",
       "    </tr>\n",
       "    <tr>\n",
       "      <td>max</td>\n",
       "      <td>9.960900e+09</td>\n",
       "      <td>895.000000</td>\n",
       "    </tr>\n",
       "  </tbody>\n",
       "</table>\n",
       "</div>"
      ],
      "text/plain": [
       "       amazon_isbn-10  amazon_price\n",
       "count    1.382000e+03   1382.000000\n",
       "mean     7.758529e+09    247.516643\n",
       "std      2.643135e+09    151.366570\n",
       "min      1.250006e+09      1.000000\n",
       "25%      8.172235e+09    135.250000\n",
       "50%      8.192911e+09    213.000000\n",
       "75%      9.352865e+09    320.000000\n",
       "max      9.960900e+09    895.000000"
      ]
     },
     "execution_count": 163,
     "metadata": {},
     "output_type": "execute_result"
    }
   ],
   "source": [
    "ama.describe()"
   ]
  },
  {
   "cell_type": "code",
   "execution_count": 164,
   "metadata": {
    "ExecuteTime": {
     "end_time": "2020-07-31T09:21:34.826330Z",
     "start_time": "2020-07-31T09:21:34.813408Z"
    }
   },
   "outputs": [
    {
     "name": "stdout",
     "output_type": "stream",
     "text": [
      "<class 'pandas.core.frame.DataFrame'>\n",
      "RangeIndex: 1382 entries, 0 to 1381\n",
      "Data columns (total 6 columns):\n",
      "amazon_title            1382 non-null object\n",
      "amazon_author           1382 non-null object\n",
      "amazon_rating           1378 non-null object\n",
      "amazon_reviews count    1378 non-null object\n",
      "amazon_isbn-10          1382 non-null int64\n",
      "amazon_price            1382 non-null int64\n",
      "dtypes: int64(2), object(4)\n",
      "memory usage: 64.9+ KB\n",
      "-----------------------------------------------------------------\n",
      "<class 'pandas.core.frame.DataFrame'>\n",
      "RangeIndex: 1382 entries, 0 to 1381\n",
      "Data columns (total 6 columns):\n",
      "flipkart_author           1381 non-null object\n",
      "flipkart_isbn10           1382 non-null int64\n",
      "flipkart_title            1382 non-null object\n",
      "flipkart_ratings count    1382 non-null object\n",
      "flipkart_price            1382 non-null int64\n",
      "flipkart_stars            1382 non-null object\n",
      "dtypes: int64(2), object(4)\n",
      "memory usage: 64.9+ KB\n"
     ]
    }
   ],
   "source": [
    "ama.info()\n",
    "print('-----------------------------------------------------------------')\n",
    "flip.info()"
   ]
  },
  {
   "cell_type": "code",
   "execution_count": 165,
   "metadata": {
    "ExecuteTime": {
     "end_time": "2020-07-31T09:21:35.179901Z",
     "start_time": "2020-07-31T09:21:35.174916Z"
    }
   },
   "outputs": [
    {
     "name": "stdout",
     "output_type": "stream",
     "text": [
      "(1382, 6)\n",
      "(1382, 6)\n"
     ]
    }
   ],
   "source": [
    "print(ama.shape)\n",
    "print(flip.shape)"
   ]
  },
  {
   "cell_type": "code",
   "execution_count": 166,
   "metadata": {
    "ExecuteTime": {
     "end_time": "2020-07-31T09:21:35.540226Z",
     "start_time": "2020-07-31T09:21:35.529256Z"
    }
   },
   "outputs": [
    {
     "name": "stdout",
     "output_type": "stream",
     "text": [
      "8\n",
      "1\n"
     ]
    }
   ],
   "source": [
    "print(ama.isnull().sum().sum())\n",
    "print(flip.isnull().sum().sum())"
   ]
  },
  {
   "cell_type": "code",
   "execution_count": 167,
   "metadata": {
    "ExecuteTime": {
     "end_time": "2020-07-31T09:21:35.885034Z",
     "start_time": "2020-07-31T09:21:35.872065Z"
    }
   },
   "outputs": [
    {
     "data": {
      "text/html": [
       "<div>\n",
       "<style scoped>\n",
       "    .dataframe tbody tr th:only-of-type {\n",
       "        vertical-align: middle;\n",
       "    }\n",
       "\n",
       "    .dataframe tbody tr th {\n",
       "        vertical-align: top;\n",
       "    }\n",
       "\n",
       "    .dataframe thead th {\n",
       "        text-align: right;\n",
       "    }\n",
       "</style>\n",
       "<table border=\"1\" class=\"dataframe\">\n",
       "  <thead>\n",
       "    <tr style=\"text-align: right;\">\n",
       "      <th></th>\n",
       "      <th>flipkart_author</th>\n",
       "      <th>flipkart_isbn10</th>\n",
       "      <th>flipkart_title</th>\n",
       "      <th>flipkart_ratings count</th>\n",
       "      <th>flipkart_price</th>\n",
       "      <th>flipkart_stars</th>\n",
       "    </tr>\n",
       "  </thead>\n",
       "  <tbody>\n",
       "    <tr>\n",
       "      <td>0</td>\n",
       "      <td>Sidney Sheldon</td>\n",
       "      <td>8172234902</td>\n",
       "      <td>TELL ME YOUR DREAMS</td>\n",
       "      <td>902</td>\n",
       "      <td>209</td>\n",
       "      <td>4.5</td>\n",
       "    </tr>\n",
       "    <tr>\n",
       "      <td>1</td>\n",
       "      <td>John Boyne</td>\n",
       "      <td>1862305277</td>\n",
       "      <td>The Boy in the Striped Pyjamas</td>\n",
       "      <td>83</td>\n",
       "      <td>372</td>\n",
       "      <td>4.5</td>\n",
       "    </tr>\n",
       "    <tr>\n",
       "      <td>2</td>\n",
       "      <td>Anil Lamba</td>\n",
       "      <td>9350294311</td>\n",
       "      <td>ROMANCING THE BALANCE SHEET</td>\n",
       "      <td>352</td>\n",
       "      <td>477</td>\n",
       "      <td>4.5</td>\n",
       "    </tr>\n",
       "    <tr>\n",
       "      <td>3</td>\n",
       "      <td>Bar-Zohar Michael</td>\n",
       "      <td>8184958455</td>\n",
       "      <td>Mossad</td>\n",
       "      <td>560</td>\n",
       "      <td>280</td>\n",
       "      <td>4.5</td>\n",
       "    </tr>\n",
       "    <tr>\n",
       "      <td>4</td>\n",
       "      <td>Kamala Das</td>\n",
       "      <td>8172238975</td>\n",
       "      <td>MY STORY</td>\n",
       "      <td>322</td>\n",
       "      <td>178</td>\n",
       "      <td>4.3</td>\n",
       "    </tr>\n",
       "  </tbody>\n",
       "</table>\n",
       "</div>"
      ],
      "text/plain": [
       "       flipkart_author  flipkart_isbn10                   flipkart_title  \\\n",
       "0       Sidney Sheldon       8172234902              TELL ME YOUR DREAMS   \n",
       "1           John Boyne       1862305277   The Boy in the Striped Pyjamas   \n",
       "2           Anil Lamba       9350294311      ROMANCING THE BALANCE SHEET   \n",
       "3    Bar-Zohar Michael       8184958455                           Mossad   \n",
       "4           Kamala Das       8172238975                         MY STORY   \n",
       "\n",
       "  flipkart_ratings count  flipkart_price flipkart_stars  \n",
       "0                    902             209            4.5  \n",
       "1                     83             372            4.5  \n",
       "2                    352             477            4.5  \n",
       "3                    560             280            4.5  \n",
       "4                    322             178            4.3  "
      ]
     },
     "execution_count": 167,
     "metadata": {},
     "output_type": "execute_result"
    }
   ],
   "source": [
    "flip.head()"
   ]
  },
  {
   "cell_type": "code",
   "execution_count": 168,
   "metadata": {
    "ExecuteTime": {
     "end_time": "2020-07-31T09:21:36.246562Z",
     "start_time": "2020-07-31T09:21:36.230605Z"
    }
   },
   "outputs": [
    {
     "data": {
      "text/html": [
       "<div>\n",
       "<style scoped>\n",
       "    .dataframe tbody tr th:only-of-type {\n",
       "        vertical-align: middle;\n",
       "    }\n",
       "\n",
       "    .dataframe tbody tr th {\n",
       "        vertical-align: top;\n",
       "    }\n",
       "\n",
       "    .dataframe thead th {\n",
       "        text-align: right;\n",
       "    }\n",
       "</style>\n",
       "<table border=\"1\" class=\"dataframe\">\n",
       "  <thead>\n",
       "    <tr style=\"text-align: right;\">\n",
       "      <th></th>\n",
       "      <th>flipkart_isbn10</th>\n",
       "      <th>flipkart_price</th>\n",
       "    </tr>\n",
       "  </thead>\n",
       "  <tbody>\n",
       "    <tr>\n",
       "      <td>count</td>\n",
       "      <td>1.382000e+03</td>\n",
       "      <td>1382.000000</td>\n",
       "    </tr>\n",
       "    <tr>\n",
       "      <td>mean</td>\n",
       "      <td>7.758529e+09</td>\n",
       "      <td>263.436324</td>\n",
       "    </tr>\n",
       "    <tr>\n",
       "      <td>std</td>\n",
       "      <td>2.643135e+09</td>\n",
       "      <td>210.164006</td>\n",
       "    </tr>\n",
       "    <tr>\n",
       "      <td>min</td>\n",
       "      <td>1.250006e+09</td>\n",
       "      <td>30.000000</td>\n",
       "    </tr>\n",
       "    <tr>\n",
       "      <td>25%</td>\n",
       "      <td>8.172235e+09</td>\n",
       "      <td>149.250000</td>\n",
       "    </tr>\n",
       "    <tr>\n",
       "      <td>50%</td>\n",
       "      <td>8.192911e+09</td>\n",
       "      <td>220.000000</td>\n",
       "    </tr>\n",
       "    <tr>\n",
       "      <td>75%</td>\n",
       "      <td>9.352865e+09</td>\n",
       "      <td>320.000000</td>\n",
       "    </tr>\n",
       "    <tr>\n",
       "      <td>max</td>\n",
       "      <td>9.960900e+09</td>\n",
       "      <td>5201.000000</td>\n",
       "    </tr>\n",
       "  </tbody>\n",
       "</table>\n",
       "</div>"
      ],
      "text/plain": [
       "       flipkart_isbn10  flipkart_price\n",
       "count     1.382000e+03     1382.000000\n",
       "mean      7.758529e+09      263.436324\n",
       "std       2.643135e+09      210.164006\n",
       "min       1.250006e+09       30.000000\n",
       "25%       8.172235e+09      149.250000\n",
       "50%       8.192911e+09      220.000000\n",
       "75%       9.352865e+09      320.000000\n",
       "max       9.960900e+09     5201.000000"
      ]
     },
     "execution_count": 168,
     "metadata": {},
     "output_type": "execute_result"
    }
   ],
   "source": [
    "flip.describe()"
   ]
  },
  {
   "cell_type": "code",
   "execution_count": 169,
   "metadata": {
    "ExecuteTime": {
     "end_time": "2020-07-31T09:21:38.570730Z",
     "start_time": "2020-07-31T09:21:38.552781Z"
    }
   },
   "outputs": [
    {
     "data": {
      "application/javascript": [
       "\n",
       "        if (window._pyforest_update_imports_cell) { window._pyforest_update_imports_cell('from sklearn import svm\\nimport pandas as pd\\nimport spacy\\nimport plotly.express as px\\nimport numpy as np\\nfrom sklearn.feature_extraction.text import TfidfVectorizer\\nimport sklearn\\nimport plotly as py\\nimport re\\nimport statistics\\nimport sys\\nimport matplotlib as mpl\\nimport keras\\nimport bokeh\\nimport pickle\\nfrom sklearn.manifold import TSNE'); }\n",
       "    "
      ],
      "text/plain": [
       "<IPython.core.display.Javascript object>"
      ]
     },
     "metadata": {},
     "output_type": "display_data"
    },
    {
     "data": {
      "text/html": [
       "<div>\n",
       "<style scoped>\n",
       "    .dataframe tbody tr th:only-of-type {\n",
       "        vertical-align: middle;\n",
       "    }\n",
       "\n",
       "    .dataframe tbody tr th {\n",
       "        vertical-align: top;\n",
       "    }\n",
       "\n",
       "    .dataframe thead th {\n",
       "        text-align: right;\n",
       "    }\n",
       "</style>\n",
       "<table border=\"1\" class=\"dataframe\">\n",
       "  <thead>\n",
       "    <tr style=\"text-align: right;\">\n",
       "      <th></th>\n",
       "      <th>amazon_title</th>\n",
       "      <th>amazon_author</th>\n",
       "      <th>amazon_rating</th>\n",
       "      <th>amazon_reviews count</th>\n",
       "      <th>amazon_isbn-10</th>\n",
       "      <th>amazon_price</th>\n",
       "      <th>flipkart_author</th>\n",
       "      <th>flipkart_isbn10</th>\n",
       "      <th>flipkart_title</th>\n",
       "      <th>flipkart_ratings count</th>\n",
       "      <th>flipkart_price</th>\n",
       "      <th>flipkart_stars</th>\n",
       "    </tr>\n",
       "  </thead>\n",
       "  <tbody>\n",
       "    <tr>\n",
       "      <td>0</td>\n",
       "      <td>Tell Me your Dreams</td>\n",
       "      <td>by Sidney Sheldon</td>\n",
       "      <td>4.4</td>\n",
       "      <td>160</td>\n",
       "      <td>8172234902</td>\n",
       "      <td>209</td>\n",
       "      <td>Sidney Sheldon</td>\n",
       "      <td>8172234902</td>\n",
       "      <td>TELL ME YOUR DREAMS</td>\n",
       "      <td>902</td>\n",
       "      <td>209</td>\n",
       "      <td>4.5</td>\n",
       "    </tr>\n",
       "    <tr>\n",
       "      <td>1</td>\n",
       "      <td>The Boy in the Striped Pyjamas (Definitions)</td>\n",
       "      <td>by John Boyne</td>\n",
       "      <td>4.6</td>\n",
       "      <td>134</td>\n",
       "      <td>1862305277</td>\n",
       "      <td>350</td>\n",
       "      <td>John Boyne</td>\n",
       "      <td>1862305277</td>\n",
       "      <td>The Boy in the Striped Pyjamas</td>\n",
       "      <td>83</td>\n",
       "      <td>372</td>\n",
       "      <td>4.5</td>\n",
       "    </tr>\n",
       "    <tr>\n",
       "      <td>2</td>\n",
       "      <td>Romancing the Balance Sheet: For Anyone Who Ow...</td>\n",
       "      <td>by Anil Lamba</td>\n",
       "      <td>4.5</td>\n",
       "      <td>156</td>\n",
       "      <td>9350294311</td>\n",
       "      <td>477</td>\n",
       "      <td>Anil Lamba</td>\n",
       "      <td>9350294311</td>\n",
       "      <td>ROMANCING THE BALANCE SHEET</td>\n",
       "      <td>352</td>\n",
       "      <td>477</td>\n",
       "      <td>4.5</td>\n",
       "    </tr>\n",
       "    <tr>\n",
       "      <td>3</td>\n",
       "      <td>Mossad</td>\n",
       "      <td>by Michael Bar-Zohar - Import</td>\n",
       "      <td>4.6</td>\n",
       "      <td>637</td>\n",
       "      <td>8184958455</td>\n",
       "      <td>340</td>\n",
       "      <td>Bar-Zohar Michael</td>\n",
       "      <td>8184958455</td>\n",
       "      <td>Mossad</td>\n",
       "      <td>560</td>\n",
       "      <td>280</td>\n",
       "      <td>4.5</td>\n",
       "    </tr>\n",
       "    <tr>\n",
       "      <td>4</td>\n",
       "      <td>My Story</td>\n",
       "      <td>by Kamala Das</td>\n",
       "      <td>4.5</td>\n",
       "      <td>42</td>\n",
       "      <td>8172238975</td>\n",
       "      <td>178</td>\n",
       "      <td>Kamala Das</td>\n",
       "      <td>8172238975</td>\n",
       "      <td>MY STORY</td>\n",
       "      <td>322</td>\n",
       "      <td>178</td>\n",
       "      <td>4.3</td>\n",
       "    </tr>\n",
       "  </tbody>\n",
       "</table>\n",
       "</div>"
      ],
      "text/plain": [
       "                                        amazon_title  \\\n",
       "0                                Tell Me your Dreams   \n",
       "1       The Boy in the Striped Pyjamas (Definitions)   \n",
       "2  Romancing the Balance Sheet: For Anyone Who Ow...   \n",
       "3                                             Mossad   \n",
       "4                                           My Story   \n",
       "\n",
       "                   amazon_author amazon_rating amazon_reviews count  \\\n",
       "0              by Sidney Sheldon           4.4                  160   \n",
       "1                  by John Boyne           4.6                  134   \n",
       "2                  by Anil Lamba           4.5                  156   \n",
       "3  by Michael Bar-Zohar - Import           4.6                  637   \n",
       "4                  by Kamala Das           4.5                   42   \n",
       "\n",
       "   amazon_isbn-10  amazon_price      flipkart_author  flipkart_isbn10  \\\n",
       "0      8172234902           209       Sidney Sheldon       8172234902   \n",
       "1      1862305277           350           John Boyne       1862305277   \n",
       "2      9350294311           477           Anil Lamba       9350294311   \n",
       "3      8184958455           340    Bar-Zohar Michael       8184958455   \n",
       "4      8172238975           178           Kamala Das       8172238975   \n",
       "\n",
       "                    flipkart_title flipkart_ratings count  flipkart_price  \\\n",
       "0              TELL ME YOUR DREAMS                    902             209   \n",
       "1   The Boy in the Striped Pyjamas                     83             372   \n",
       "2      ROMANCING THE BALANCE SHEET                    352             477   \n",
       "3                           Mossad                    560             280   \n",
       "4                         MY STORY                    322             178   \n",
       "\n",
       "  flipkart_stars  \n",
       "0            4.5  \n",
       "1            4.5  \n",
       "2            4.5  \n",
       "3            4.5  \n",
       "4            4.3  "
      ]
     },
     "execution_count": 169,
     "metadata": {},
     "output_type": "execute_result"
    }
   ],
   "source": [
    "ama_flip = pd.concat([ama, flip],axis=1)\n",
    "ama_flip.head()"
   ]
  },
  {
   "cell_type": "code",
   "execution_count": 170,
   "metadata": {
    "ExecuteTime": {
     "end_time": "2020-07-31T09:21:41.135065Z",
     "start_time": "2020-07-31T09:21:41.125091Z"
    }
   },
   "outputs": [
    {
     "name": "stdout",
     "output_type": "stream",
     "text": [
      "<class 'pandas.core.frame.DataFrame'>\n",
      "RangeIndex: 1382 entries, 0 to 1381\n",
      "Data columns (total 12 columns):\n",
      "amazon_title              1382 non-null object\n",
      "amazon_author             1382 non-null object\n",
      "amazon_rating             1378 non-null object\n",
      "amazon_reviews count      1378 non-null object\n",
      "amazon_isbn-10            1382 non-null int64\n",
      "amazon_price              1382 non-null int64\n",
      "flipkart_author           1381 non-null object\n",
      "flipkart_isbn10           1382 non-null int64\n",
      "flipkart_title            1382 non-null object\n",
      "flipkart_ratings count    1382 non-null object\n",
      "flipkart_price            1382 non-null int64\n",
      "flipkart_stars            1382 non-null object\n",
      "dtypes: int64(4), object(8)\n",
      "memory usage: 129.7+ KB\n"
     ]
    }
   ],
   "source": [
    "ama_flip.info()"
   ]
  },
  {
   "cell_type": "code",
   "execution_count": 171,
   "metadata": {
    "ExecuteTime": {
     "end_time": "2020-07-31T09:21:41.929001Z",
     "start_time": "2020-07-31T09:21:41.914141Z"
    }
   },
   "outputs": [],
   "source": [
    "ama_flip.drop(columns=['amazon_author','amazon_title','amazon_rating','amazon_reviews count','amazon_isbn-10','flipkart_ratings count','flipkart_stars'], inplace=True)"
   ]
  },
  {
   "cell_type": "code",
   "execution_count": 172,
   "metadata": {
    "ExecuteTime": {
     "end_time": "2020-07-31T09:21:42.514973Z",
     "start_time": "2020-07-31T09:21:42.505998Z"
    }
   },
   "outputs": [
    {
     "data": {
      "text/html": [
       "<div>\n",
       "<style scoped>\n",
       "    .dataframe tbody tr th:only-of-type {\n",
       "        vertical-align: middle;\n",
       "    }\n",
       "\n",
       "    .dataframe tbody tr th {\n",
       "        vertical-align: top;\n",
       "    }\n",
       "\n",
       "    .dataframe thead th {\n",
       "        text-align: right;\n",
       "    }\n",
       "</style>\n",
       "<table border=\"1\" class=\"dataframe\">\n",
       "  <thead>\n",
       "    <tr style=\"text-align: right;\">\n",
       "      <th></th>\n",
       "      <th>amazon_price</th>\n",
       "      <th>flipkart_author</th>\n",
       "      <th>flipkart_isbn10</th>\n",
       "      <th>flipkart_title</th>\n",
       "      <th>flipkart_price</th>\n",
       "    </tr>\n",
       "  </thead>\n",
       "  <tbody>\n",
       "    <tr>\n",
       "      <td>0</td>\n",
       "      <td>209</td>\n",
       "      <td>Sidney Sheldon</td>\n",
       "      <td>8172234902</td>\n",
       "      <td>TELL ME YOUR DREAMS</td>\n",
       "      <td>209</td>\n",
       "    </tr>\n",
       "    <tr>\n",
       "      <td>1</td>\n",
       "      <td>350</td>\n",
       "      <td>John Boyne</td>\n",
       "      <td>1862305277</td>\n",
       "      <td>The Boy in the Striped Pyjamas</td>\n",
       "      <td>372</td>\n",
       "    </tr>\n",
       "    <tr>\n",
       "      <td>2</td>\n",
       "      <td>477</td>\n",
       "      <td>Anil Lamba</td>\n",
       "      <td>9350294311</td>\n",
       "      <td>ROMANCING THE BALANCE SHEET</td>\n",
       "      <td>477</td>\n",
       "    </tr>\n",
       "    <tr>\n",
       "      <td>3</td>\n",
       "      <td>340</td>\n",
       "      <td>Bar-Zohar Michael</td>\n",
       "      <td>8184958455</td>\n",
       "      <td>Mossad</td>\n",
       "      <td>280</td>\n",
       "    </tr>\n",
       "    <tr>\n",
       "      <td>4</td>\n",
       "      <td>178</td>\n",
       "      <td>Kamala Das</td>\n",
       "      <td>8172238975</td>\n",
       "      <td>MY STORY</td>\n",
       "      <td>178</td>\n",
       "    </tr>\n",
       "  </tbody>\n",
       "</table>\n",
       "</div>"
      ],
      "text/plain": [
       "   amazon_price      flipkart_author  flipkart_isbn10  \\\n",
       "0           209       Sidney Sheldon       8172234902   \n",
       "1           350           John Boyne       1862305277   \n",
       "2           477           Anil Lamba       9350294311   \n",
       "3           340    Bar-Zohar Michael       8184958455   \n",
       "4           178           Kamala Das       8172238975   \n",
       "\n",
       "                    flipkart_title  flipkart_price  \n",
       "0              TELL ME YOUR DREAMS             209  \n",
       "1   The Boy in the Striped Pyjamas             372  \n",
       "2      ROMANCING THE BALANCE SHEET             477  \n",
       "3                           Mossad             280  \n",
       "4                         MY STORY             178  "
      ]
     },
     "execution_count": 172,
     "metadata": {},
     "output_type": "execute_result"
    }
   ],
   "source": [
    "ama_flip.head()   #isbn10 is same for both amazon and flipkart. So we can drop a column either from flipkart or amazon. "
   ]
  },
  {
   "cell_type": "code",
   "execution_count": 173,
   "metadata": {
    "ExecuteTime": {
     "end_time": "2020-07-31T09:21:43.032424Z",
     "start_time": "2020-07-31T09:21:43.011922Z"
    }
   },
   "outputs": [
    {
     "name": "stdout",
     "output_type": "stream",
     "text": [
      "<class 'pandas.core.frame.DataFrame'>\n",
      "RangeIndex: 1382 entries, 0 to 1381\n",
      "Data columns (total 5 columns):\n",
      "amazon_price       1382 non-null int64\n",
      "flipkart_author    1381 non-null object\n",
      "flipkart_isbn10    1382 non-null int64\n",
      "flipkart_title     1382 non-null object\n",
      "flipkart_price     1382 non-null int64\n",
      "dtypes: int64(3), object(2)\n",
      "memory usage: 54.1+ KB\n"
     ]
    }
   ],
   "source": [
    "ama_flip.info()"
   ]
  },
  {
   "cell_type": "code",
   "execution_count": 174,
   "metadata": {
    "ExecuteTime": {
     "end_time": "2020-07-31T09:21:43.777920Z",
     "start_time": "2020-07-31T09:21:43.762541Z"
    }
   },
   "outputs": [
    {
     "data": {
      "text/html": [
       "<div>\n",
       "<style scoped>\n",
       "    .dataframe tbody tr th:only-of-type {\n",
       "        vertical-align: middle;\n",
       "    }\n",
       "\n",
       "    .dataframe tbody tr th {\n",
       "        vertical-align: top;\n",
       "    }\n",
       "\n",
       "    .dataframe thead th {\n",
       "        text-align: right;\n",
       "    }\n",
       "</style>\n",
       "<table border=\"1\" class=\"dataframe\">\n",
       "  <thead>\n",
       "    <tr style=\"text-align: right;\">\n",
       "      <th></th>\n",
       "      <th>amazon_price</th>\n",
       "      <th>Author</th>\n",
       "      <th>BN</th>\n",
       "      <th>Title</th>\n",
       "      <th>flipkart_price</th>\n",
       "    </tr>\n",
       "  </thead>\n",
       "  <tbody>\n",
       "    <tr>\n",
       "      <td>0</td>\n",
       "      <td>209</td>\n",
       "      <td>Sidney Sheldon</td>\n",
       "      <td>8172234902</td>\n",
       "      <td>TELL ME YOUR DREAMS</td>\n",
       "      <td>209</td>\n",
       "    </tr>\n",
       "    <tr>\n",
       "      <td>1</td>\n",
       "      <td>350</td>\n",
       "      <td>John Boyne</td>\n",
       "      <td>1862305277</td>\n",
       "      <td>The Boy in the Striped Pyjamas</td>\n",
       "      <td>372</td>\n",
       "    </tr>\n",
       "    <tr>\n",
       "      <td>2</td>\n",
       "      <td>477</td>\n",
       "      <td>Anil Lamba</td>\n",
       "      <td>9350294311</td>\n",
       "      <td>ROMANCING THE BALANCE SHEET</td>\n",
       "      <td>477</td>\n",
       "    </tr>\n",
       "    <tr>\n",
       "      <td>3</td>\n",
       "      <td>340</td>\n",
       "      <td>Bar-Zohar Michael</td>\n",
       "      <td>8184958455</td>\n",
       "      <td>Mossad</td>\n",
       "      <td>280</td>\n",
       "    </tr>\n",
       "    <tr>\n",
       "      <td>4</td>\n",
       "      <td>178</td>\n",
       "      <td>Kamala Das</td>\n",
       "      <td>8172238975</td>\n",
       "      <td>MY STORY</td>\n",
       "      <td>178</td>\n",
       "    </tr>\n",
       "  </tbody>\n",
       "</table>\n",
       "</div>"
      ],
      "text/plain": [
       "   amazon_price               Author          BN  \\\n",
       "0           209       Sidney Sheldon  8172234902   \n",
       "1           350           John Boyne  1862305277   \n",
       "2           477           Anil Lamba  9350294311   \n",
       "3           340    Bar-Zohar Michael  8184958455   \n",
       "4           178           Kamala Das  8172238975   \n",
       "\n",
       "                             Title  flipkart_price  \n",
       "0              TELL ME YOUR DREAMS             209  \n",
       "1   The Boy in the Striped Pyjamas             372  \n",
       "2      ROMANCING THE BALANCE SHEET             477  \n",
       "3                           Mossad             280  \n",
       "4                         MY STORY             178  "
      ]
     },
     "execution_count": 174,
     "metadata": {},
     "output_type": "execute_result"
    }
   ],
   "source": [
    "ama_flip.rename(columns={'flipkart_author':'Author', 'flipkart_isbn10':'BN', 'flipkart_title':'Title'}, inplace=True)\n",
    "ama_flip.head()"
   ]
  },
  {
   "cell_type": "code",
   "execution_count": 175,
   "metadata": {
    "ExecuteTime": {
     "end_time": "2020-07-31T09:21:44.537244Z",
     "start_time": "2020-07-31T09:21:44.527271Z"
    }
   },
   "outputs": [
    {
     "data": {
      "text/plain": [
       "amazon_price      0\n",
       "Author            1\n",
       "BN                0\n",
       "Title             0\n",
       "flipkart_price    0\n",
       "dtype: int64"
      ]
     },
     "execution_count": 175,
     "metadata": {},
     "output_type": "execute_result"
    }
   ],
   "source": [
    "ama_flip.isnull().sum()"
   ]
  },
  {
   "cell_type": "code",
   "execution_count": 176,
   "metadata": {
    "ExecuteTime": {
     "end_time": "2020-07-31T09:21:45.124964Z",
     "start_time": "2020-07-31T09:21:45.117991Z"
    }
   },
   "outputs": [
    {
     "data": {
      "application/javascript": [
       "\n",
       "        if (window._pyforest_update_imports_cell) { window._pyforest_update_imports_cell('from sklearn import svm\\nimport pandas as pd\\nimport spacy\\nimport plotly.express as px\\nimport numpy as np\\nfrom sklearn.feature_extraction.text import TfidfVectorizer\\nimport sklearn\\nimport plotly as py\\nimport re\\nimport statistics\\nimport sys\\nimport matplotlib as mpl\\nimport keras\\nimport bokeh\\nimport pickle\\nfrom sklearn.manifold import TSNE'); }\n",
       "    "
      ],
      "text/plain": [
       "<IPython.core.display.Javascript object>"
      ]
     },
     "metadata": {},
     "output_type": "display_data"
    }
   ],
   "source": [
    "ama_flip.replace(np.NaN,'Anonymous',inplace=True)"
   ]
  },
  {
   "cell_type": "code",
   "execution_count": 177,
   "metadata": {
    "ExecuteTime": {
     "end_time": "2020-07-31T09:21:45.764056Z",
     "start_time": "2020-07-31T09:21:45.755122Z"
    }
   },
   "outputs": [
    {
     "data": {
      "text/plain": [
       "amazon_price      0\n",
       "Author            0\n",
       "BN                0\n",
       "Title             0\n",
       "flipkart_price    0\n",
       "dtype: int64"
      ]
     },
     "execution_count": 177,
     "metadata": {},
     "output_type": "execute_result"
    }
   ],
   "source": [
    "ama_flip.isnull().sum()"
   ]
  },
  {
   "cell_type": "code",
   "execution_count": 178,
   "metadata": {
    "ExecuteTime": {
     "end_time": "2020-07-31T09:21:46.223206Z",
     "start_time": "2020-07-31T09:21:46.215227Z"
    }
   },
   "outputs": [
    {
     "name": "stdout",
     "output_type": "stream",
     "text": [
      "895\n",
      "1\n"
     ]
    }
   ],
   "source": [
    "print(ama_flip.amazon_price.max())\n",
    "print(ama_flip.amazon_price.min())"
   ]
  },
  {
   "cell_type": "code",
   "execution_count": 179,
   "metadata": {
    "ExecuteTime": {
     "end_time": "2020-07-31T09:21:46.637523Z",
     "start_time": "2020-07-31T09:21:46.629545Z"
    }
   },
   "outputs": [
    {
     "name": "stdout",
     "output_type": "stream",
     "text": [
      "5201\n",
      "30\n"
     ]
    }
   ],
   "source": [
    "print(ama_flip.flipkart_price.max())\n",
    "print(ama_flip.flipkart_price.min())"
   ]
  },
  {
   "cell_type": "code",
   "execution_count": 180,
   "metadata": {
    "ExecuteTime": {
     "end_time": "2020-07-31T09:21:47.182044Z",
     "start_time": "2020-07-31T09:21:47.173034Z"
    }
   },
   "outputs": [
    {
     "data": {
      "text/html": [
       "<div>\n",
       "<style scoped>\n",
       "    .dataframe tbody tr th:only-of-type {\n",
       "        vertical-align: middle;\n",
       "    }\n",
       "\n",
       "    .dataframe tbody tr th {\n",
       "        vertical-align: top;\n",
       "    }\n",
       "\n",
       "    .dataframe thead th {\n",
       "        text-align: right;\n",
       "    }\n",
       "</style>\n",
       "<table border=\"1\" class=\"dataframe\">\n",
       "  <thead>\n",
       "    <tr style=\"text-align: right;\">\n",
       "      <th></th>\n",
       "      <th>amazon_price</th>\n",
       "      <th>Author</th>\n",
       "      <th>BN</th>\n",
       "      <th>Title</th>\n",
       "      <th>flipkart_price</th>\n",
       "    </tr>\n",
       "  </thead>\n",
       "  <tbody>\n",
       "    <tr>\n",
       "      <td>389</td>\n",
       "      <td>4</td>\n",
       "      <td>Maymi Fernando</td>\n",
       "      <td>1260142655</td>\n",
       "      <td>CISSP All-in-One Exam Guide- Eighth Edition</td>\n",
       "      <td>5201</td>\n",
       "    </tr>\n",
       "  </tbody>\n",
       "</table>\n",
       "</div>"
      ],
      "text/plain": [
       "     amazon_price            Author          BN  \\\n",
       "389             4    Maymi Fernando  1260142655   \n",
       "\n",
       "                                            Title  flipkart_price  \n",
       "389   CISSP All-in-One Exam Guide- Eighth Edition            5201  "
      ]
     },
     "execution_count": 180,
     "metadata": {},
     "output_type": "execute_result"
    }
   ],
   "source": [
    "ama_flip.loc[ama_flip.flipkart_price == 5201]"
   ]
  },
  {
   "cell_type": "code",
   "execution_count": 181,
   "metadata": {
    "ExecuteTime": {
     "end_time": "2020-07-31T09:21:48.426227Z",
     "start_time": "2020-07-31T09:21:48.412307Z"
    }
   },
   "outputs": [
    {
     "data": {
      "text/html": [
       "<div>\n",
       "<style scoped>\n",
       "    .dataframe tbody tr th:only-of-type {\n",
       "        vertical-align: middle;\n",
       "    }\n",
       "\n",
       "    .dataframe tbody tr th {\n",
       "        vertical-align: top;\n",
       "    }\n",
       "\n",
       "    .dataframe thead th {\n",
       "        text-align: right;\n",
       "    }\n",
       "</style>\n",
       "<table border=\"1\" class=\"dataframe\">\n",
       "  <thead>\n",
       "    <tr style=\"text-align: right;\">\n",
       "      <th></th>\n",
       "      <th>amazon_price</th>\n",
       "      <th>Author</th>\n",
       "      <th>BN</th>\n",
       "      <th>Title</th>\n",
       "      <th>flipkart_price</th>\n",
       "    </tr>\n",
       "  </thead>\n",
       "  <tbody>\n",
       "    <tr>\n",
       "      <td>86</td>\n",
       "      <td>19</td>\n",
       "      <td>unknown</td>\n",
       "      <td>9312147307</td>\n",
       "      <td>General Knowledge 2019</td>\n",
       "      <td>30</td>\n",
       "    </tr>\n",
       "    <tr>\n",
       "      <td>174</td>\n",
       "      <td>19</td>\n",
       "      <td>unknown</td>\n",
       "      <td>9312147307</td>\n",
       "      <td>General Knowledge 2019</td>\n",
       "      <td>30</td>\n",
       "    </tr>\n",
       "    <tr>\n",
       "      <td>354</td>\n",
       "      <td>19</td>\n",
       "      <td>unknown</td>\n",
       "      <td>9312147307</td>\n",
       "      <td>General Knowledge 2019</td>\n",
       "      <td>30</td>\n",
       "    </tr>\n",
       "    <tr>\n",
       "      <td>516</td>\n",
       "      <td>19</td>\n",
       "      <td>unknown</td>\n",
       "      <td>9312147307</td>\n",
       "      <td>General Knowledge 2019</td>\n",
       "      <td>30</td>\n",
       "    </tr>\n",
       "    <tr>\n",
       "      <td>930</td>\n",
       "      <td>19</td>\n",
       "      <td>unknown</td>\n",
       "      <td>9312147307</td>\n",
       "      <td>General Knowledge 2019</td>\n",
       "      <td>30</td>\n",
       "    </tr>\n",
       "    <tr>\n",
       "      <td>1082</td>\n",
       "      <td>19</td>\n",
       "      <td>unknown</td>\n",
       "      <td>9312147307</td>\n",
       "      <td>General Knowledge 2019</td>\n",
       "      <td>30</td>\n",
       "    </tr>\n",
       "  </tbody>\n",
       "</table>\n",
       "</div>"
      ],
      "text/plain": [
       "      amazon_price     Author          BN                    Title  \\\n",
       "86              19    unknown  9312147307   General Knowledge 2019   \n",
       "174             19    unknown  9312147307   General Knowledge 2019   \n",
       "354             19    unknown  9312147307   General Knowledge 2019   \n",
       "516             19    unknown  9312147307   General Knowledge 2019   \n",
       "930             19    unknown  9312147307   General Knowledge 2019   \n",
       "1082            19    unknown  9312147307   General Knowledge 2019   \n",
       "\n",
       "      flipkart_price  \n",
       "86                30  \n",
       "174               30  \n",
       "354               30  \n",
       "516               30  \n",
       "930               30  \n",
       "1082              30  "
      ]
     },
     "execution_count": 181,
     "metadata": {},
     "output_type": "execute_result"
    }
   ],
   "source": [
    "ama_flip.loc[ama_flip.flipkart_price == 30]"
   ]
  },
  {
   "cell_type": "code",
   "execution_count": 182,
   "metadata": {
    "ExecuteTime": {
     "end_time": "2020-07-31T09:21:48.997997Z",
     "start_time": "2020-07-31T09:21:48.988980Z"
    }
   },
   "outputs": [
    {
     "data": {
      "text/html": [
       "<div>\n",
       "<style scoped>\n",
       "    .dataframe tbody tr th:only-of-type {\n",
       "        vertical-align: middle;\n",
       "    }\n",
       "\n",
       "    .dataframe tbody tr th {\n",
       "        vertical-align: top;\n",
       "    }\n",
       "\n",
       "    .dataframe thead th {\n",
       "        text-align: right;\n",
       "    }\n",
       "</style>\n",
       "<table border=\"1\" class=\"dataframe\">\n",
       "  <thead>\n",
       "    <tr style=\"text-align: right;\">\n",
       "      <th></th>\n",
       "      <th>amazon_price</th>\n",
       "      <th>Author</th>\n",
       "      <th>BN</th>\n",
       "      <th>Title</th>\n",
       "      <th>flipkart_price</th>\n",
       "    </tr>\n",
       "  </thead>\n",
       "  <tbody>\n",
       "    <tr>\n",
       "      <td>977</td>\n",
       "      <td>895</td>\n",
       "      <td>ETS</td>\n",
       "      <td>9352607376</td>\n",
       "      <td>The Official Guide to the GRE General Test Th...</td>\n",
       "      <td>805</td>\n",
       "    </tr>\n",
       "  </tbody>\n",
       "</table>\n",
       "</div>"
      ],
      "text/plain": [
       "     amazon_price Author          BN  \\\n",
       "977           895    ETS  9352607376   \n",
       "\n",
       "                                                 Title  flipkart_price  \n",
       "977   The Official Guide to the GRE General Test Th...             805  "
      ]
     },
     "execution_count": 182,
     "metadata": {},
     "output_type": "execute_result"
    }
   ],
   "source": [
    "ama_flip.loc[ama_flip.amazon_price == 895]"
   ]
  },
  {
   "cell_type": "code",
   "execution_count": 183,
   "metadata": {
    "ExecuteTime": {
     "end_time": "2020-07-31T09:21:49.729107Z",
     "start_time": "2020-07-31T09:21:49.718181Z"
    }
   },
   "outputs": [
    {
     "data": {
      "text/html": [
       "<div>\n",
       "<style scoped>\n",
       "    .dataframe tbody tr th:only-of-type {\n",
       "        vertical-align: middle;\n",
       "    }\n",
       "\n",
       "    .dataframe tbody tr th {\n",
       "        vertical-align: top;\n",
       "    }\n",
       "\n",
       "    .dataframe thead th {\n",
       "        text-align: right;\n",
       "    }\n",
       "</style>\n",
       "<table border=\"1\" class=\"dataframe\">\n",
       "  <thead>\n",
       "    <tr style=\"text-align: right;\">\n",
       "      <th></th>\n",
       "      <th>amazon_price</th>\n",
       "      <th>Author</th>\n",
       "      <th>BN</th>\n",
       "      <th>Title</th>\n",
       "      <th>flipkart_price</th>\n",
       "    </tr>\n",
       "  </thead>\n",
       "  <tbody>\n",
       "    <tr>\n",
       "      <td>341</td>\n",
       "      <td>1</td>\n",
       "      <td>Tom Ang</td>\n",
       "      <td>1409346455</td>\n",
       "      <td>Photography: The Definitive Visual History</td>\n",
       "      <td>1581</td>\n",
       "    </tr>\n",
       "    <tr>\n",
       "      <td>384</td>\n",
       "      <td>1</td>\n",
       "      <td>Manhattan Prep</td>\n",
       "      <td>1506247598</td>\n",
       "      <td>5 lb. Book of GRE Practice Problems</td>\n",
       "      <td>1799</td>\n",
       "    </tr>\n",
       "    <tr>\n",
       "      <td>807</td>\n",
       "      <td>1</td>\n",
       "      <td>MUDIT KHANNA</td>\n",
       "      <td>9352704339</td>\n",
       "      <td>MUDIT KHANNA'S SELF ASSESSMENT &amp; REVIEW MEDIC...</td>\n",
       "      <td>1235</td>\n",
       "    </tr>\n",
       "    <tr>\n",
       "      <td>816</td>\n",
       "      <td>1</td>\n",
       "      <td>Bhat M. Sriram</td>\n",
       "      <td>9351524167</td>\n",
       "      <td>SRB's Manual of Surgery</td>\n",
       "      <td>1145</td>\n",
       "    </tr>\n",
       "  </tbody>\n",
       "</table>\n",
       "</div>"
      ],
      "text/plain": [
       "     amazon_price            Author          BN  \\\n",
       "341             1           Tom Ang  1409346455   \n",
       "384             1    Manhattan Prep  1506247598   \n",
       "807             1      MUDIT KHANNA  9352704339   \n",
       "816             1    Bhat M. Sriram  9351524167   \n",
       "\n",
       "                                                 Title  flipkart_price  \n",
       "341         Photography: The Definitive Visual History            1581  \n",
       "384                5 lb. Book of GRE Practice Problems            1799  \n",
       "807   MUDIT KHANNA'S SELF ASSESSMENT & REVIEW MEDIC...            1235  \n",
       "816                            SRB's Manual of Surgery            1145  "
      ]
     },
     "execution_count": 183,
     "metadata": {},
     "output_type": "execute_result"
    }
   ],
   "source": [
    "ama_flip.loc[ama_flip.amazon_price == 1]"
   ]
  },
  {
   "cell_type": "code",
   "execution_count": 184,
   "metadata": {
    "ExecuteTime": {
     "end_time": "2020-07-31T09:21:50.274506Z",
     "start_time": "2020-07-31T09:21:50.269561Z"
    }
   },
   "outputs": [],
   "source": [
    "ama_flip['price_diff'] = ama_flip['flipkart_price'] - ama_flip['amazon_price']"
   ]
  },
  {
   "cell_type": "code",
   "execution_count": 185,
   "metadata": {
    "ExecuteTime": {
     "end_time": "2020-07-31T09:21:50.894238Z",
     "start_time": "2020-07-31T09:21:50.882279Z"
    }
   },
   "outputs": [
    {
     "data": {
      "text/html": [
       "<div>\n",
       "<style scoped>\n",
       "    .dataframe tbody tr th:only-of-type {\n",
       "        vertical-align: middle;\n",
       "    }\n",
       "\n",
       "    .dataframe tbody tr th {\n",
       "        vertical-align: top;\n",
       "    }\n",
       "\n",
       "    .dataframe thead th {\n",
       "        text-align: right;\n",
       "    }\n",
       "</style>\n",
       "<table border=\"1\" class=\"dataframe\">\n",
       "  <thead>\n",
       "    <tr style=\"text-align: right;\">\n",
       "      <th></th>\n",
       "      <th>amazon_price</th>\n",
       "      <th>Author</th>\n",
       "      <th>BN</th>\n",
       "      <th>Title</th>\n",
       "      <th>flipkart_price</th>\n",
       "      <th>price_diff</th>\n",
       "    </tr>\n",
       "  </thead>\n",
       "  <tbody>\n",
       "    <tr>\n",
       "      <td>0</td>\n",
       "      <td>209</td>\n",
       "      <td>Sidney Sheldon</td>\n",
       "      <td>8172234902</td>\n",
       "      <td>TELL ME YOUR DREAMS</td>\n",
       "      <td>209</td>\n",
       "      <td>0</td>\n",
       "    </tr>\n",
       "    <tr>\n",
       "      <td>1</td>\n",
       "      <td>350</td>\n",
       "      <td>John Boyne</td>\n",
       "      <td>1862305277</td>\n",
       "      <td>The Boy in the Striped Pyjamas</td>\n",
       "      <td>372</td>\n",
       "      <td>22</td>\n",
       "    </tr>\n",
       "    <tr>\n",
       "      <td>2</td>\n",
       "      <td>477</td>\n",
       "      <td>Anil Lamba</td>\n",
       "      <td>9350294311</td>\n",
       "      <td>ROMANCING THE BALANCE SHEET</td>\n",
       "      <td>477</td>\n",
       "      <td>0</td>\n",
       "    </tr>\n",
       "    <tr>\n",
       "      <td>3</td>\n",
       "      <td>340</td>\n",
       "      <td>Bar-Zohar Michael</td>\n",
       "      <td>8184958455</td>\n",
       "      <td>Mossad</td>\n",
       "      <td>280</td>\n",
       "      <td>-60</td>\n",
       "    </tr>\n",
       "    <tr>\n",
       "      <td>4</td>\n",
       "      <td>178</td>\n",
       "      <td>Kamala Das</td>\n",
       "      <td>8172238975</td>\n",
       "      <td>MY STORY</td>\n",
       "      <td>178</td>\n",
       "      <td>0</td>\n",
       "    </tr>\n",
       "  </tbody>\n",
       "</table>\n",
       "</div>"
      ],
      "text/plain": [
       "   amazon_price               Author          BN  \\\n",
       "0           209       Sidney Sheldon  8172234902   \n",
       "1           350           John Boyne  1862305277   \n",
       "2           477           Anil Lamba  9350294311   \n",
       "3           340    Bar-Zohar Michael  8184958455   \n",
       "4           178           Kamala Das  8172238975   \n",
       "\n",
       "                             Title  flipkart_price  price_diff  \n",
       "0              TELL ME YOUR DREAMS             209           0  \n",
       "1   The Boy in the Striped Pyjamas             372          22  \n",
       "2      ROMANCING THE BALANCE SHEET             477           0  \n",
       "3                           Mossad             280         -60  \n",
       "4                         MY STORY             178           0  "
      ]
     },
     "execution_count": 185,
     "metadata": {},
     "output_type": "execute_result"
    }
   ],
   "source": [
    "ama_flip.head()"
   ]
  },
  {
   "cell_type": "code",
   "execution_count": 186,
   "metadata": {
    "ExecuteTime": {
     "end_time": "2020-07-31T09:21:51.430026Z",
     "start_time": "2020-07-31T09:21:51.409083Z"
    }
   },
   "outputs": [
    {
     "data": {
      "text/html": [
       "<div>\n",
       "<style scoped>\n",
       "    .dataframe tbody tr th:only-of-type {\n",
       "        vertical-align: middle;\n",
       "    }\n",
       "\n",
       "    .dataframe tbody tr th {\n",
       "        vertical-align: top;\n",
       "    }\n",
       "\n",
       "    .dataframe thead th {\n",
       "        text-align: right;\n",
       "    }\n",
       "</style>\n",
       "<table border=\"1\" class=\"dataframe\">\n",
       "  <thead>\n",
       "    <tr style=\"text-align: right;\">\n",
       "      <th></th>\n",
       "      <th>amazon_price</th>\n",
       "      <th>Author</th>\n",
       "      <th>BN</th>\n",
       "      <th>Title</th>\n",
       "      <th>flipkart_price</th>\n",
       "      <th>price_diff</th>\n",
       "    </tr>\n",
       "  </thead>\n",
       "  <tbody>\n",
       "    <tr>\n",
       "      <td>0</td>\n",
       "      <td>209</td>\n",
       "      <td>Sidney Sheldon</td>\n",
       "      <td>8172234902</td>\n",
       "      <td>TELL ME YOUR DREAMS</td>\n",
       "      <td>209</td>\n",
       "      <td>0</td>\n",
       "    </tr>\n",
       "    <tr>\n",
       "      <td>2</td>\n",
       "      <td>477</td>\n",
       "      <td>Anil Lamba</td>\n",
       "      <td>9350294311</td>\n",
       "      <td>ROMANCING THE BALANCE SHEET</td>\n",
       "      <td>477</td>\n",
       "      <td>0</td>\n",
       "    </tr>\n",
       "    <tr>\n",
       "      <td>4</td>\n",
       "      <td>178</td>\n",
       "      <td>Kamala Das</td>\n",
       "      <td>8172238975</td>\n",
       "      <td>MY STORY</td>\n",
       "      <td>178</td>\n",
       "      <td>0</td>\n",
       "    </tr>\n",
       "    <tr>\n",
       "      <td>9</td>\n",
       "      <td>221</td>\n",
       "      <td>Khan Gabriel</td>\n",
       "      <td>9386850133</td>\n",
       "      <td>The Dirty Dozen - Hitmen of Mumbai Mafia</td>\n",
       "      <td>221</td>\n",
       "      <td>0</td>\n",
       "    </tr>\n",
       "    <tr>\n",
       "      <td>14</td>\n",
       "      <td>360</td>\n",
       "      <td>Robin Banerjee</td>\n",
       "      <td>9351500616</td>\n",
       "      <td>Who Cheats and How?: Scams- Fraud and the Dar...</td>\n",
       "      <td>360</td>\n",
       "      <td>0</td>\n",
       "    </tr>\n",
       "    <tr>\n",
       "      <td>...</td>\n",
       "      <td>...</td>\n",
       "      <td>...</td>\n",
       "      <td>...</td>\n",
       "      <td>...</td>\n",
       "      <td>...</td>\n",
       "      <td>...</td>\n",
       "    </tr>\n",
       "    <tr>\n",
       "      <td>1360</td>\n",
       "      <td>255</td>\n",
       "      <td>Gayle Forman</td>\n",
       "      <td>1909531235</td>\n",
       "      <td>If I Stay</td>\n",
       "      <td>255</td>\n",
       "      <td>0</td>\n",
       "    </tr>\n",
       "    <tr>\n",
       "      <td>1362</td>\n",
       "      <td>186</td>\n",
       "      <td>Chbosky Stephen</td>\n",
       "      <td>1451696191</td>\n",
       "      <td>The Perks of Being a Wallflower</td>\n",
       "      <td>186</td>\n",
       "      <td>0</td>\n",
       "    </tr>\n",
       "    <tr>\n",
       "      <td>1368</td>\n",
       "      <td>374</td>\n",
       "      <td>J. K. Rowling</td>\n",
       "      <td>1408855666</td>\n",
       "      <td>Harry Potter and the Chamber of Secrets</td>\n",
       "      <td>374</td>\n",
       "      <td>0</td>\n",
       "    </tr>\n",
       "    <tr>\n",
       "      <td>1370</td>\n",
       "      <td>196</td>\n",
       "      <td>Victoria Aveyard</td>\n",
       "      <td>1409150747</td>\n",
       "      <td>Glass Sword</td>\n",
       "      <td>196</td>\n",
       "      <td>0</td>\n",
       "    </tr>\n",
       "    <tr>\n",
       "      <td>1371</td>\n",
       "      <td>524</td>\n",
       "      <td>J. K. Rowling</td>\n",
       "      <td>1408855682</td>\n",
       "      <td>Harry Potter and the Goblet of Fire</td>\n",
       "      <td>524</td>\n",
       "      <td>0</td>\n",
       "    </tr>\n",
       "  </tbody>\n",
       "</table>\n",
       "<p>355 rows × 6 columns</p>\n",
       "</div>"
      ],
      "text/plain": [
       "      amazon_price              Author          BN  \\\n",
       "0              209      Sidney Sheldon  8172234902   \n",
       "2              477          Anil Lamba  9350294311   \n",
       "4              178          Kamala Das  8172238975   \n",
       "9              221        Khan Gabriel  9386850133   \n",
       "14             360      Robin Banerjee  9351500616   \n",
       "...            ...                 ...         ...   \n",
       "1360           255        Gayle Forman  1909531235   \n",
       "1362           186     Chbosky Stephen  1451696191   \n",
       "1368           374       J. K. Rowling  1408855666   \n",
       "1370           196    Victoria Aveyard  1409150747   \n",
       "1371           524       J. K. Rowling  1408855682   \n",
       "\n",
       "                                                  Title  flipkart_price  \\\n",
       "0                                   TELL ME YOUR DREAMS             209   \n",
       "2                           ROMANCING THE BALANCE SHEET             477   \n",
       "4                                              MY STORY             178   \n",
       "9              The Dirty Dozen - Hitmen of Mumbai Mafia             221   \n",
       "14     Who Cheats and How?: Scams- Fraud and the Dar...             360   \n",
       "...                                                 ...             ...   \n",
       "1360                                          If I Stay             255   \n",
       "1362                    The Perks of Being a Wallflower             186   \n",
       "1368            Harry Potter and the Chamber of Secrets             374   \n",
       "1370                                        Glass Sword             196   \n",
       "1371                Harry Potter and the Goblet of Fire             524   \n",
       "\n",
       "      price_diff  \n",
       "0              0  \n",
       "2              0  \n",
       "4              0  \n",
       "9              0  \n",
       "14             0  \n",
       "...          ...  \n",
       "1360           0  \n",
       "1362           0  \n",
       "1368           0  \n",
       "1370           0  \n",
       "1371           0  \n",
       "\n",
       "[355 rows x 6 columns]"
      ]
     },
     "execution_count": 186,
     "metadata": {},
     "output_type": "execute_result"
    }
   ],
   "source": [
    "ama_flip.loc[ama_flip.price_diff == 0]"
   ]
  },
  {
   "cell_type": "code",
   "execution_count": 187,
   "metadata": {
    "ExecuteTime": {
     "end_time": "2020-07-31T09:21:51.977769Z",
     "start_time": "2020-07-31T09:21:51.968793Z"
    }
   },
   "outputs": [
    {
     "name": "stdout",
     "output_type": "stream",
     "text": [
      "Same price: 25.687409551374817\n"
     ]
    }
   ],
   "source": [
    "same_price = print('Same price:',ama_flip[ama_flip.price_diff == 0].count()[0]/ama_flip.shape[0] * 100)"
   ]
  },
  {
   "cell_type": "code",
   "execution_count": 188,
   "metadata": {
    "ExecuteTime": {
     "end_time": "2020-07-31T09:21:52.345777Z",
     "start_time": "2020-07-31T09:21:52.333812Z"
    }
   },
   "outputs": [
    {
     "name": "stdout",
     "output_type": "stream",
     "text": [
      "Variation in price: 74.31259044862519\n"
     ]
    }
   ],
   "source": [
    "diff_price = print('Variation in price:',ama_flip[ama_flip.price_diff != 0].count()[0]/ama_flip.shape[0] * 100)"
   ]
  },
  {
   "cell_type": "code",
   "execution_count": 189,
   "metadata": {
    "ExecuteTime": {
     "end_time": "2020-07-31T09:21:53.022112Z",
     "start_time": "2020-07-31T09:21:53.006443Z"
    }
   },
   "outputs": [
    {
     "data": {
      "text/plain": [
       "342068"
      ]
     },
     "execution_count": 189,
     "metadata": {},
     "output_type": "execute_result"
    }
   ],
   "source": [
    "ama_flip.amazon_price.sum()"
   ]
  },
  {
   "cell_type": "code",
   "execution_count": 190,
   "metadata": {
    "ExecuteTime": {
     "end_time": "2020-07-31T09:21:53.554988Z",
     "start_time": "2020-07-31T09:21:53.539321Z"
    }
   },
   "outputs": [
    {
     "data": {
      "text/plain": [
       "364069"
      ]
     },
     "execution_count": 190,
     "metadata": {},
     "output_type": "execute_result"
    }
   ],
   "source": [
    "ama_flip.flipkart_price.sum()"
   ]
  },
  {
   "cell_type": "code",
   "execution_count": 191,
   "metadata": {
    "ExecuteTime": {
     "end_time": "2020-07-31T09:21:54.688429Z",
     "start_time": "2020-07-31T09:21:54.674220Z"
    }
   },
   "outputs": [
    {
     "data": {
      "application/javascript": [
       "\n",
       "        if (window._pyforest_update_imports_cell) { window._pyforest_update_imports_cell('from sklearn import svm\\nimport pandas as pd\\nimport spacy\\nimport plotly.express as px\\nimport numpy as np\\nfrom sklearn.feature_extraction.text import TfidfVectorizer\\nimport sklearn\\nimport plotly as py\\nimport re\\nimport statistics\\nimport sys\\nimport matplotlib as mpl\\nimport keras\\nimport bokeh\\nimport pickle\\nfrom sklearn.manifold import TSNE'); }\n",
       "    "
      ],
      "text/plain": [
       "<IPython.core.display.Javascript object>"
      ]
     },
     "metadata": {},
     "output_type": "display_data"
    },
    {
     "name": "stdout",
     "output_type": "stream",
     "text": [
      "34.23076856631614\n"
     ]
    }
   ],
   "source": [
    "ama_flip[\"flipkart_price\"] = np.where(ama_flip[\"flipkart_price\"] <=975, 975,ama_flip['flipkart_price'])\n",
    "print(ama_flip['flipkart_price'].skew())"
   ]
  },
  {
   "cell_type": "code",
   "execution_count": 192,
   "metadata": {
    "ExecuteTime": {
     "end_time": "2020-07-31T09:21:57.808703Z",
     "start_time": "2020-07-31T09:21:57.801723Z"
    }
   },
   "outputs": [],
   "source": [
    "outliers = ama_flip[ama_flip.flipkart_price > 1000].index\n",
    "ama_flip = ama_flip.drop(outliers)"
   ]
  },
  {
   "cell_type": "code",
   "execution_count": 193,
   "metadata": {
    "ExecuteTime": {
     "end_time": "2020-07-31T09:22:00.190393Z",
     "start_time": "2020-07-31T09:21:59.924971Z"
    }
   },
   "outputs": [
    {
     "name": "stderr",
     "output_type": "stream",
     "text": [
      "No handles with labels found to put in legend.\n"
     ]
    },
    {
     "data": {
      "text/plain": [
       "Text(0, 0.5, 'Number of books')"
      ]
     },
     "execution_count": 193,
     "metadata": {},
     "output_type": "execute_result"
    },
    {
     "data": {
      "image/png": "[encoded data removed]",
      "text/plain": [
       "<Figure size 720x432 with 1 Axes>"
      ]
     },
     "metadata": {
      "needs_background": "light"
     },
     "output_type": "display_data"
    }
   ],
   "source": [
    "plt.figure(figsize=(10,6))\n",
    "sns.distplot(flip.flipkart_price,color='orange',bins=30,kde=False)\n",
    "sns.distplot(ama.amazon_price,color='blue',bins=30,kde=False)\n",
    "plt.legend()\n",
    "plt.xlabel('Price')\n",
    "plt.ylabel('Number of books')"
   ]
  },
  {
   "cell_type": "code",
   "execution_count": 194,
   "metadata": {
    "ExecuteTime": {
     "end_time": "2020-07-31T09:22:02.593578Z",
     "start_time": "2020-07-31T09:22:02.387060Z"
    }
   },
   "outputs": [
    {
     "name": "stderr",
     "output_type": "stream",
     "text": [
      "No handles with labels found to put in legend.\n"
     ]
    },
    {
     "data": {
      "text/plain": [
       "Text(0, 0.5, 'Difference')"
      ]
     },
     "execution_count": 194,
     "metadata": {},
     "output_type": "execute_result"
    },
    {
     "data": {
      "image/png": "[encoded data removed]",
      "text/plain": [
       "<Figure size 720x432 with 1 Axes>"
      ]
     },
     "metadata": {
      "needs_background": "light"
     },
     "output_type": "display_data"
    }
   ],
   "source": [
    "plt.figure(figsize=(10,6))\n",
    "sns.distplot(abs(ama_flip['price_diff']),color='red',bins=30,kde=False)\n",
    "plt.legend()\n",
    "plt.xlabel('Price')\n",
    "plt.ylabel('Difference')"
   ]
  },
  {
   "cell_type": "code",
   "execution_count": 197,
   "metadata": {
    "ExecuteTime": {
     "end_time": "2020-07-31T09:32:25.925418Z",
     "start_time": "2020-07-31T09:32:25.920396Z"
    }
   },
   "outputs": [
    {
     "name": "stdout",
     "output_type": "stream",
     "text": [
      "367\n"
     ]
    }
   ],
   "source": [
    "print(ama_flip.price_diff.max())"
   ]
  },
  {
   "cell_type": "code",
   "execution_count": 198,
   "metadata": {
    "ExecuteTime": {
     "end_time": "2020-07-31T09:32:27.046948Z",
     "start_time": "2020-07-31T09:32:27.036972Z"
    }
   },
   "outputs": [
    {
     "data": {
      "text/html": [
       "<div>\n",
       "<style scoped>\n",
       "    .dataframe tbody tr th:only-of-type {\n",
       "        vertical-align: middle;\n",
       "    }\n",
       "\n",
       "    .dataframe tbody tr th {\n",
       "        vertical-align: top;\n",
       "    }\n",
       "\n",
       "    .dataframe thead th {\n",
       "        text-align: right;\n",
       "    }\n",
       "</style>\n",
       "<table border=\"1\" class=\"dataframe\">\n",
       "  <thead>\n",
       "    <tr style=\"text-align: right;\">\n",
       "      <th></th>\n",
       "      <th>amazon_price</th>\n",
       "      <th>Author</th>\n",
       "      <th>BN</th>\n",
       "      <th>Title</th>\n",
       "      <th>flipkart_price</th>\n",
       "      <th>price_diff</th>\n",
       "    </tr>\n",
       "  </thead>\n",
       "  <tbody>\n",
       "    <tr>\n",
       "      <td>1265</td>\n",
       "      <td>328</td>\n",
       "      <td>Keith Brown</td>\n",
       "      <td>8131733661</td>\n",
       "      <td>Hughes Electrical and Electronic Technology 1...</td>\n",
       "      <td>975</td>\n",
       "      <td>367</td>\n",
       "    </tr>\n",
       "  </tbody>\n",
       "</table>\n",
       "</div>"
      ],
      "text/plain": [
       "      amazon_price         Author          BN  \\\n",
       "1265           328    Keith Brown  8131733661   \n",
       "\n",
       "                                                  Title  flipkart_price  \\\n",
       "1265   Hughes Electrical and Electronic Technology 1...             975   \n",
       "\n",
       "      price_diff  \n",
       "1265         367  "
      ]
     },
     "execution_count": 198,
     "metadata": {},
     "output_type": "execute_result"
    }
   ],
   "source": [
    "ama_flip.loc[ama_flip.price_diff == 367]"
   ]
  },
  {
   "cell_type": "code",
   "execution_count": 199,
   "metadata": {
    "ExecuteTime": {
     "end_time": "2020-07-31T09:33:35.322284Z",
     "start_time": "2020-07-31T09:33:35.091061Z"
    }
   },
   "outputs": [
    {
     "name": "stderr",
     "output_type": "stream",
     "text": [
      "No handles with labels found to put in legend.\n"
     ]
    },
    {
     "data": {
      "text/plain": [
       "Text(0, 0.5, 'Price Difference')"
      ]
     },
     "execution_count": 199,
     "metadata": {},
     "output_type": "execute_result"
    },
    {
     "data": {
      "image/png": "[encoded data removed]",
      "text/plain": [
       "<Figure size 720x432 with 1 Axes>"
      ]
     },
     "metadata": {
      "needs_background": "light"
     },
     "output_type": "display_data"
    }
   ],
   "source": [
    "plt.figure(figsize=(10,6))\n",
    "sns.distplot(ama_flip.price_diff,color='grey',bins=30,kde=False)\n",
    "#sns.distplot(ama.amazon_price,color='blue',bins=30,kde=False)\n",
    "plt.legend()\n",
    "plt.xlabel('Price')\n",
    "plt.ylabel('Price Difference')"
   ]
  },
  {
   "cell_type": "code",
   "execution_count": null,
   "metadata": {},
   "outputs": [],
   "source": []
  }
 ],
 "metadata": {
  "kernelspec": {
   "display_name": "Python 3",
   "language": "python",
   "name": "python3"
  },
  "language_info": {
   "codemirror_mode": {
    "name": "ipython",
    "version": 3
   },
   "file_extension": ".py",
   "mimetype": "text/x-python",
   "name": "python",
   "nbconvert_exporter": "python",
   "pygments_lexer": "ipython3",
   "version": "3.7.4"
  },
  "latex_envs": {
   "LaTeX_envs_menu_present": true,
   "autoclose": false,
   "autocomplete": true,
   "bibliofile": "biblio.bib",
   "cite_by": "apalike",
   "current_citInitial": 1,
   "eqLabelWithNumbers": true,
   "eqNumInitial": 1,
   "hotkeys": {
    "equation": "Ctrl-E",
    "itemize": "Ctrl-I"
   },
   "labels_anchors": false,
   "latex_user_defs": false,
   "report_style_numbering": false,
   "user_envs_cfg": false
  },
  "nbTranslate": {
   "displayLangs": [
    "*"
   ],
   "hotkey": "alt-t",
   "langInMainMenu": true,
   "sourceLang": "en",
   "targetLang": "fr",
   "useGoogleTranslate": true
  },
  "toc": {
   "base_numbering": 1,
   "nav_menu": {},
   "number_sections": true,
   "sideBar": true,
   "skip_h1_title": false,
   "title_cell": "Table of Contents",
   "title_sidebar": "Contents",
   "toc_cell": false,
   "toc_position": {},
   "toc_section_display": true,
   "toc_window_display": false
  }
 },
 "nbformat": 4,
 "nbformat_minor": 2
}
